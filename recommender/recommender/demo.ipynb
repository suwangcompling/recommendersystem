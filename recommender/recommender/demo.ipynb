{
 "cells": [
  {
   "cell_type": "markdown",
   "metadata": {},
   "source": [
    "# Recommender System: Recommender"
   ]
  },
  {
   "cell_type": "code",
   "execution_count": 6,
   "metadata": {
    "collapsed": true
   },
   "outputs": [],
   "source": [
    "from collections import Counter, defaultdict\n",
    "from functools import partial\n",
    "from operator import itemgetter\n",
    "import numpy as np"
   ]
  },
  {
   "cell_type": "code",
   "execution_count": 7,
   "metadata": {
    "collapsed": true
   },
   "outputs": [],
   "source": [
    "usersInterests = [\n",
    "    [\"Hadoop\", \"Big Data\", \"HBase\", \"Java\", \"Spark\", \"Storm\", \"Cassandra\"],\n",
    "    [\"NoSQL\", \"MongoDB\", \"Cassandra\", \"HBase\", \"Postgres\"],\n",
    "    [\"Python\", \"scikit-learn\", \"scipy\", \"numpy\", \"statsmodels\", \"pandas\"],\n",
    "    [\"R\", \"Python\", \"statistics\", \"regression\", \"probability\"],\n",
    "    [\"machine learning\", \"regression\", \"decision trees\", \"libsvm\"],\n",
    "    [\"Python\", \"R\", \"Java\", \"C++\", \"Haskell\", \"programming languages\"],\n",
    "    [\"statistics\", \"probability\", \"mathematics\", \"theory\"],\n",
    "    [\"machine learning\", \"scikit-learn\", \"Mahout\", \"neural networks\"],\n",
    "    [\"neural networks\", \"deep learning\", \"Big Data\", \"artificial intelligence\"],\n",
    "    [\"Hadoop\", \"Java\", \"MapReduce\", \"Big Data\"],\n",
    "    [\"statistics\", \"R\", \"statsmodels\"],\n",
    "    [\"C++\", \"deep learning\", \"artificial intelligence\", \"probability\"],\n",
    "    [\"pandas\", \"R\", \"Python\"],\n",
    "    [\"databases\", \"HBase\", \"Postgres\", \"MySQL\", \"MongoDB\"],\n",
    "    [\"libsvm\", \"regression\", \"support vector machines\"]\n",
    "]"
   ]
  },
  {
   "cell_type": "code",
   "execution_count": 40,
   "metadata": {
    "collapsed": false
   },
   "outputs": [],
   "source": [
    "class Recommender:\n",
    "    \n",
    "    def __init__(self, data):\n",
    "        # data: a list of lists of user interests, each sublist is a user\n",
    "        # mode: most_popular, user_oriented, interest_oriented.\n",
    "        self.data = data\n",
    "        self.modesInfo = defaultdict(list) # one data entry each mode.\n",
    "            # popularityRanks for 'most_popular'\n",
    "            # usersInterestsMatrix for 'user_oriented'\n",
    "            # interestsUsersMatrix for 'interest_oriented'\n",
    "        self.recommendCount = 0\n",
    "        self.newData = []\n",
    "        self.retrain = False\n",
    "        self.__train()\n",
    "    \n",
    "    # TRAINING FUNCTIONS\n",
    "    \n",
    "    def __train(self, userInterests=[]): # TODO: later, train all three mode when called!\n",
    "        self.recommendCount += 1\n",
    "        print \"... training\"\n",
    "        self.__most_pupular_train()\n",
    "        self.__user_oriented_train()\n",
    "        self.__item_oriented_train()\n",
    "        # update database after 10 recommendations.\n",
    "        self.newData.append(userInterests)\n",
    "        if self.recommendCount % 10 == 0:\n",
    "            self.data.extend(self.newData) \n",
    "            self.newData = []\n",
    "            self.retrain = True\n",
    "    \n",
    "    def __most_pupular_train(self):\n",
    "        popularityCounts = Counter(entry for datum in self.data for entry in datum)\n",
    "            # datum is an array of entries (e.g. user interests).\n",
    "        popularityRanks = sorted(popularityCounts.items(), key=itemgetter(1), reverse=True)\n",
    "        self.modesInfo['most_popular'] = popularityRanks\n",
    "                \n",
    "    def __user_oriented_train(self):\n",
    "        self.uniqueInterests = sorted(list({entry for datum in self.data for entry in datum}))\n",
    "        self.interestToIndex = {interest:i for i,interest in enumerate(self.uniqueInterests)}\n",
    "        usersInterestsMatrix = map(self.__vectorize, self.data)\n",
    "        self.modesInfo['user_oriented'] = usersInterestsMatrix\n",
    "            # usersSimilarities must be computed when each new user comes in.\n",
    "    \n",
    "    def __item_oriented_train(self):\n",
    "        usersInterestsMatrix = map(self.__vectorize, self.data)\n",
    "        interestsUsersMatrix = [[userInterestsVec[j] for userInterestsVec in usersInterestsMatrix]\n",
    "                                for j,_ in enumerate(self.uniqueInterests)]\n",
    "        self.modesInfo['interest_oriented'] = interestsUsersMatrix\n",
    "        self.interestsSimilarities = self.__mat_cosine(np.array(interestsUsersMatrix))\n",
    "            # interestsSimilarities can be computed in prior, \n",
    "            #  assuming we always have the same list of interests.\n",
    "            #  for new interests, we have to collect data over all\n",
    "            #  the users and update current data.\n",
    "    \n",
    "    # SIMILARITY COMPUTATION\n",
    "    \n",
    "    def __vec_cosine(self, user_i, user_j):\n",
    "        return np.dot(user_i,user_j) / (np.sqrt(np.dot(user_i,user_i))*np.sqrt(np.dot(user_j,user_j)))\n",
    "    \n",
    "    def __mat_cosine(self, matrix):\n",
    "        matrix_norm = matrix / np.apply_along_axis(lambda r: np.sqrt(np.dot(r,r)), 1, matrix)[:,np.newaxis]\n",
    "        return np.dot(matrix_norm, matrix_norm.T)\n",
    "    \n",
    "    # VECTORIZER\n",
    "    \n",
    "    def __vectorize(self, userInterests):\n",
    "        return [1 if interest in userInterests else 0 for interest in self.uniqueInterests]\n",
    "    \n",
    "    # RECOMMENDER\n",
    "    \n",
    "    def recommend(self, userInterests=[], mode='most_popular', k=5):\n",
    "        assert mode in ['most_popular','user_oriented','interest_oriented']\n",
    "        # TODO: assert  # ensure that mode has been trained.\n",
    "        if mode=='most_popular':\n",
    "            for i in xrange(k):\n",
    "                print \"The Rank %d Most Recommended: %s (Popularity Count: %d)\" % \\\n",
    "                      (i+1,self.modesInfo[mode][i][0],self.modesInfo[mode][i][1])   \n",
    "        elif mode=='user_oriented': \n",
    "            userInterestsVec = self.__vectorize(userInterests)\n",
    "            usersSimilarities = [(i,self.__vec_cosine(userInterestsVec,otherUserInterestsVec)) \n",
    "                                  for i,otherUserInterestsVec in enumerate(self.modesInfo[mode])] # i: otherUserID\n",
    "            suggestions = defaultdict(float)\n",
    "            for i,similarity in usersSimilarities: # i: userID.\n",
    "                for interest in self.data[i]:\n",
    "                    suggestions[interest] += similarity\n",
    "            suggestions = sorted(suggestions.items(),key=lambda(_,weight):weight,reverse=True)\n",
    "            suggestions = [(suggestion,weight) for suggestion,weight in suggestions\n",
    "                           if suggestion not in userInterests]\n",
    "            for i in xrange(k):\n",
    "                print \"The Rank %d Most Recommended: %s (Popularity Weight: %.6f)\" % \\\n",
    "                      (i+1,suggestions[i][0],suggestions[i][1])\n",
    "        else:\n",
    "            userInterestsVec = self.__vectorize(userInterests)\n",
    "            suggestions = defaultdict(float) \n",
    "            for interest in userInterests:\n",
    "                if interest in self.uniqueInterests:\n",
    "                    interestID = self.uniqueInterests.index(interest)\n",
    "                    for otherInterestID,otherInterest in enumerate(self.uniqueInterests):\n",
    "                        suggestions[otherInterest] += self.interestsSimilarities[interestID][otherInterestID]\n",
    "            suggestions = sorted(suggestions.items(),key=lambda(_,weight):weight,reverse=True)\n",
    "            suggestions = [(suggestion,weight) for suggestion,weight in suggestions\n",
    "                           if suggestion not in userInterests]\n",
    "            for i in xrange(k):\n",
    "                print \"The Rank %d Most Recommended: %s (Popularity Weight: %.6f)\" % \\\n",
    "                      (i+1,suggestions[i][0],suggestions[i][1])           \n",
    "        if self.retrain: \n",
    "            self.__train()\n",
    "            retrain = False"
   ]
  },
  {
   "cell_type": "code",
   "execution_count": 41,
   "metadata": {
    "collapsed": false
   },
   "outputs": [
    {
     "name": "stdout",
     "output_type": "stream",
     "text": [
      "... training\n"
     ]
    }
   ],
   "source": [
    "rcm = Recommender(usersInterests)"
   ]
  },
  {
   "cell_type": "code",
   "execution_count": 42,
   "metadata": {
    "collapsed": false
   },
   "outputs": [
    {
     "name": "stdout",
     "output_type": "stream",
     "text": [
      "The Rank 1 Most Recommended: Python (Popularity Count: 4)\n",
      "The Rank 2 Most Recommended: R (Popularity Count: 4)\n",
      "The Rank 3 Most Recommended: Java (Popularity Count: 3)\n",
      "The Rank 4 Most Recommended: regression (Popularity Count: 3)\n",
      "The Rank 5 Most Recommended: statistics (Popularity Count: 3)\n"
     ]
    }
   ],
   "source": [
    "rcm.recommend()"
   ]
  },
  {
   "cell_type": "code",
   "execution_count": 43,
   "metadata": {
    "collapsed": false
   },
   "outputs": [
    {
     "name": "stdout",
     "output_type": "stream",
     "text": [
      "The Rank 1 Most Recommended: MapReduce (Popularity Weight: 0.566947)\n",
      "The Rank 2 Most Recommended: Postgres (Popularity Weight: 0.507093)\n",
      "The Rank 3 Most Recommended: MongoDB (Popularity Weight: 0.507093)\n",
      "The Rank 4 Most Recommended: NoSQL (Popularity Weight: 0.338062)\n",
      "The Rank 5 Most Recommended: neural networks (Popularity Weight: 0.188982)\n"
     ]
    }
   ],
   "source": [
    "rcm.recommend(userInterests=[\"Hadoop\", \"Big Data\", \"HBase\", \"Java\", \"Spark\", \"Storm\", \"Cassandra\"], \n",
    "              mode='user_oriented')"
   ]
  },
  {
   "cell_type": "code",
   "execution_count": 44,
   "metadata": {
    "collapsed": false
   },
   "outputs": [
    {
     "name": "stdout",
     "output_type": "stream",
     "text": [
      "The Rank 1 Most Recommended: MapReduce (Popularity Weight: 1.861807)\n",
      "The Rank 2 Most Recommended: Postgres (Popularity Weight: 1.316497)\n",
      "The Rank 3 Most Recommended: MongoDB (Popularity Weight: 1.316497)\n",
      "The Rank 4 Most Recommended: NoSQL (Popularity Weight: 1.284457)\n",
      "The Rank 5 Most Recommended: MySQL (Popularity Weight: 0.577350)\n"
     ]
    }
   ],
   "source": [
    "rcm.recommend(userInterests=[\"Hadoop\", \"Big Data\", \"HBase\", \"Java\", \"Spark\", \"Storm\", \"Cassandra\"], \n",
    "              mode='interest_oriented')"
   ]
  },
  {
   "cell_type": "code",
   "execution_count": null,
   "metadata": {
    "collapsed": true
   },
   "outputs": [],
   "source": []
  }
 ],
 "metadata": {
  "kernelspec": {
   "display_name": "Python 2",
   "language": "python",
   "name": "python2"
  },
  "language_info": {
   "codemirror_mode": {
    "name": "ipython",
    "version": 2
   },
   "file_extension": ".py",
   "mimetype": "text/x-python",
   "name": "python",
   "nbconvert_exporter": "python",
   "pygments_lexer": "ipython2",
   "version": "2.7.11"
  }
 },
 "nbformat": 4,
 "nbformat_minor": 0
}
